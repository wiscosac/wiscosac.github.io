{
 "cells": [
  {
   "cell_type": "markdown",
   "id": "8268ad6b-809b-4d44-b298-83ddacf67c3e",
   "metadata": {},
   "source": [
    "### To start, I will make a quick model for the sake of example. You will want to substitute in your model"
   ]
  },
  {
   "cell_type": "code",
   "execution_count": 1,
   "id": "6367d41b-1068-48eb-a12b-8499f252346c",
   "metadata": {},
   "outputs": [],
   "source": [
    "import pandas as pd\n",
    "import zipfile\n",
    "from sklearn.linear_model import LogisticRegression"
   ]
  },
  {
   "cell_type": "code",
   "execution_count": 2,
   "id": "87c92a12-8066-4e2e-9385-02113fb94b33",
   "metadata": {},
   "outputs": [],
   "source": [
    "with zipfile.ZipFile('march-machine-learning-mania-2024.zip') as zf:\n",
    "    with zf.open('MNCAATourneySeeds.csv') as f:\n",
    "        m_seed = pd.read_csv(f)\n",
    "    with zf.open('MNCAATourneyCompactResults.csv') as f:\n",
    "        m_results = pd.read_csv(f)\n",
    "    with zf.open('WNCAATourneySeeds.csv') as f:\n",
    "        w_seed = pd.read_csv(f)\n",
    "    with zf.open('WNCAATourneyCompactResults.csv') as f:\n",
    "        w_results = pd.read_csv(f)"
   ]
  },
  {
   "cell_type": "code",
   "execution_count": 3,
   "id": "f14e2af2-b645-463f-8f86-7d47d5f555d0",
   "metadata": {},
   "outputs": [],
   "source": [
    "m_seed['Seed'] = m_seed['Seed'].str.extract(r'(\\d+)')\n",
    "w_seed['Seed'] = w_seed['Seed'].str.extract(r'(\\d+)')"
   ]
  },
  {
   "cell_type": "code",
   "execution_count": 4,
   "id": "6ab96e92-a542-4fc3-988f-86211bd1d631",
   "metadata": {},
   "outputs": [],
   "source": [
    "seeds = pd.concat([m_seed, w_seed])\n",
    "results = pd.concat([m_results, w_results])"
   ]
  },
  {
   "cell_type": "code",
   "execution_count": 5,
   "id": "65a5bb73-aa87-46d8-a8ca-30ca43042888",
   "metadata": {},
   "outputs": [],
   "source": [
    "results = results.rename(columns={'WTeamID':'T1_ID','WScore':'T1_Score','LTeamID':'T2_ID','LScore':'T2_Score'})\n",
    "even_matchups = pd.concat([results, results.rename(columns={'T1_ID':'T2_ID', 'T2_ID':'T1_ID', 'T1_Score':'T2_Score', 'T2_Score':'T1_Score'})])\n",
    "even_matchups['T1_Win'] = (even_matchups['T1_Score'] > even_matchups['T2_Score']).astype(int)"
   ]
  },
  {
   "cell_type": "code",
   "execution_count": 6,
   "id": "09b84fa9-1f60-4ac1-99db-70a8c32de0d9",
   "metadata": {},
   "outputs": [
    {
     "data": {
      "text/html": [
       "<div>\n",
       "<style scoped>\n",
       "    .dataframe tbody tr th:only-of-type {\n",
       "        vertical-align: middle;\n",
       "    }\n",
       "\n",
       "    .dataframe tbody tr th {\n",
       "        vertical-align: top;\n",
       "    }\n",
       "\n",
       "    .dataframe thead th {\n",
       "        text-align: right;\n",
       "    }\n",
       "</style>\n",
       "<table border=\"1\" class=\"dataframe\">\n",
       "  <thead>\n",
       "    <tr style=\"text-align: right;\">\n",
       "      <th></th>\n",
       "      <th>T1_ID</th>\n",
       "      <th>T1_Seed</th>\n",
       "      <th>T2_ID</th>\n",
       "      <th>T2_Seed</th>\n",
       "      <th>T1_Win</th>\n",
       "    </tr>\n",
       "  </thead>\n",
       "  <tbody>\n",
       "    <tr>\n",
       "      <th>0</th>\n",
       "      <td>1116</td>\n",
       "      <td>09</td>\n",
       "      <td>1234</td>\n",
       "      <td>08</td>\n",
       "      <td>1</td>\n",
       "    </tr>\n",
       "    <tr>\n",
       "      <th>1</th>\n",
       "      <td>1116</td>\n",
       "      <td>09</td>\n",
       "      <td>1385</td>\n",
       "      <td>01</td>\n",
       "      <td>0</td>\n",
       "    </tr>\n",
       "    <tr>\n",
       "      <th>2</th>\n",
       "      <td>1207</td>\n",
       "      <td>01</td>\n",
       "      <td>1385</td>\n",
       "      <td>01</td>\n",
       "      <td>1</td>\n",
       "    </tr>\n",
       "    <tr>\n",
       "      <th>3</th>\n",
       "      <td>1246</td>\n",
       "      <td>12</td>\n",
       "      <td>1385</td>\n",
       "      <td>01</td>\n",
       "      <td>0</td>\n",
       "    </tr>\n",
       "    <tr>\n",
       "      <th>4</th>\n",
       "      <td>1301</td>\n",
       "      <td>03</td>\n",
       "      <td>1385</td>\n",
       "      <td>01</td>\n",
       "      <td>0</td>\n",
       "    </tr>\n",
       "    <tr>\n",
       "      <th>...</th>\n",
       "      <td>...</td>\n",
       "      <td>...</td>\n",
       "      <td>...</td>\n",
       "      <td>...</td>\n",
       "      <td>...</td>\n",
       "    </tr>\n",
       "    <tr>\n",
       "      <th>8063</th>\n",
       "      <td>3417</td>\n",
       "      <td>04</td>\n",
       "      <td>3328</td>\n",
       "      <td>05</td>\n",
       "      <td>1</td>\n",
       "    </tr>\n",
       "    <tr>\n",
       "      <th>8064</th>\n",
       "      <td>3339</td>\n",
       "      <td>12</td>\n",
       "      <td>3328</td>\n",
       "      <td>05</td>\n",
       "      <td>0</td>\n",
       "    </tr>\n",
       "    <tr>\n",
       "      <th>8065</th>\n",
       "      <td>3437</td>\n",
       "      <td>04</td>\n",
       "      <td>3156</td>\n",
       "      <td>13</td>\n",
       "      <td>1</td>\n",
       "    </tr>\n",
       "    <tr>\n",
       "      <th>8066</th>\n",
       "      <td>3437</td>\n",
       "      <td>04</td>\n",
       "      <td>3195</td>\n",
       "      <td>12</td>\n",
       "      <td>1</td>\n",
       "    </tr>\n",
       "    <tr>\n",
       "      <th>8067</th>\n",
       "      <td>3450</td>\n",
       "      <td>05</td>\n",
       "      <td>3195</td>\n",
       "      <td>12</td>\n",
       "      <td>0</td>\n",
       "    </tr>\n",
       "  </tbody>\n",
       "</table>\n",
       "<p>8068 rows × 5 columns</p>\n",
       "</div>"
      ],
      "text/plain": [
       "      T1_ID T1_Seed  T2_ID T2_Seed  T1_Win\n",
       "0      1116      09   1234      08       1\n",
       "1      1116      09   1385      01       0\n",
       "2      1207      01   1385      01       1\n",
       "3      1246      12   1385      01       0\n",
       "4      1301      03   1385      01       0\n",
       "...     ...     ...    ...     ...     ...\n",
       "8063   3417      04   3328      05       1\n",
       "8064   3339      12   3328      05       0\n",
       "8065   3437      04   3156      13       1\n",
       "8066   3437      04   3195      12       1\n",
       "8067   3450      05   3195      12       0\n",
       "\n",
       "[8068 rows x 5 columns]"
      ]
     },
     "execution_count": 6,
     "metadata": {},
     "output_type": "execute_result"
    }
   ],
   "source": [
    "merged = pd.merge(even_matchups, seeds, left_on=['T1_ID', 'Season'], right_on=['TeamID', 'Season'])\n",
    "merged.rename(columns={'Seed': 'T1_Seed'}, inplace=True)\n",
    "merged = pd.merge(merged, seeds, left_on=['T2_ID', 'Season'], right_on=['TeamID', 'Season'])\n",
    "merged.rename(columns={'Seed': 'T2_Seed'}, inplace=True)\n",
    "merged[['T1_ID', 'T1_Seed', 'T2_ID', 'T2_Seed', 'T1_Win']]"
   ]
  },
  {
   "cell_type": "code",
   "execution_count": 7,
   "id": "6d89558c-046c-46fa-8649-adf2e977a283",
   "metadata": {},
   "outputs": [
    {
     "data": {
      "text/plain": [
       "LogisticRegression()"
      ]
     },
     "execution_count": 7,
     "metadata": {},
     "output_type": "execute_result"
    }
   ],
   "source": [
    "model = LogisticRegression()\n",
    "\n",
    "features = ['T1_Seed', 'T2_Seed']\n",
    "\n",
    "X = merged[features]\n",
    "y = merged['T1_Win']\n",
    "model.fit(X, y)"
   ]
  },
  {
   "cell_type": "markdown",
   "id": "e4ef2ff0-3155-4379-9a3e-4da6327252bc",
   "metadata": {},
   "source": [
    "## Now that I have my model ready, I can predict based on this year's tournament teams"
   ]
  },
  {
   "cell_type": "code",
   "execution_count": 8,
   "id": "4fa98db2-acd5-4c73-871f-754ad7bcb4b1",
   "metadata": {},
   "outputs": [],
   "source": [
    "# reading in the possible matchups for this year\n",
    "potential_24 = pd.read_csv('2024_Potential_Matchups.csv')[['T1_Spelling', 'T1_ID', 'T1_Seed', 'T2_Spelling', 'T2_ID', 'T2_Seed']]"
   ]
  },
  {
   "cell_type": "markdown",
   "id": "66270051-2cff-44ca-b0db-ddaf714486f6",
   "metadata": {},
   "source": [
    "## Here is where you will have to add in any features that may be used in the model. For the example model, I just used seed, which is already given to me in the potential_24 dataframe"
   ]
  },
  {
   "cell_type": "code",
   "execution_count": 9,
   "id": "81272098-e6d9-4857-96f2-a5e74af66cbb",
   "metadata": {},
   "outputs": [],
   "source": [
    "# If you have a table that has all of your features for each team, you can simply merge those features into the potential_24 dataframe\n",
    "\n",
    "# features = [...]\n",
    "# potential_24 = pd.merge(potential_24, feature_df[[features]], left_on = 'T1_ID', right_on = 'TeamID', how = 'left')\n",
    "# potential_24 = pd.merge(potential_24, feature_df[[features]], left_on = 'T2_ID', right_on = 'TeamID', how = 'left', suffixes=('_T1', '_T2'))\n",
    "\n",
    "# you may need to switch some of this to match the feature names that you used when you fit your model"
   ]
  },
  {
   "cell_type": "code",
   "execution_count": 10,
   "id": "86e6054d-accf-41c9-be25-c9ebf087026d",
   "metadata": {},
   "outputs": [],
   "source": [
    "# add a new column with predictions for each game\n",
    "potential_24['T1_Win'] = model.predict_proba(potential_24[features])[:,1]"
   ]
  },
  {
   "cell_type": "code",
   "execution_count": 11,
   "id": "74688330-c6c2-4689-a914-cf30319facbb",
   "metadata": {},
   "outputs": [],
   "source": [
    "potential_24.to_csv('submission.csv')"
   ]
  }
 ],
 "metadata": {
  "kernelspec": {
   "display_name": "Python 3",
   "language": "python",
   "name": "python3"
  },
  "language_info": {
   "codemirror_mode": {
    "name": "ipython",
    "version": 3
   },
   "file_extension": ".py",
   "mimetype": "text/x-python",
   "name": "python",
   "nbconvert_exporter": "python",
   "pygments_lexer": "ipython3",
   "version": "3.8.8"
  }
 },
 "nbformat": 4,
 "nbformat_minor": 5
}
